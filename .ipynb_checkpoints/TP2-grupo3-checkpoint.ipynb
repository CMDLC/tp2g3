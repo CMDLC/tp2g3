{
 "cells": [
  {
   "cell_type": "code",
   "execution_count": 9,
   "metadata": {},
   "outputs": [
    {
     "name": "stdout",
     "output_type": "stream",
     "text": [
      "Numero de filas: 4\n",
      "Numero de columnas: 3\n",
      "FILA NÚMERO  1\n",
      "---Ingrese el nombre de la fila : Bajo\n",
      "FILA NÚMERO  2\n",
      "---Ingrese el nombre de la fila : Medio\n",
      "FILA NÚMERO  3\n",
      "---Ingrese el nombre de la fila : Alto\n",
      "FILA NÚMERO  4\n",
      "---Ingrese el nombre de la fila : Muy Alto\n",
      "Columna 1\n",
      "Nombre de la columna: Bueno\n",
      "Columna 2\n",
      "Nombre de la columna: Regular\n",
      "Columna 3\n",
      "Nombre de la columna: Malo\n",
      "- Columna:  1  fila:  1\n",
      "Ingrese los valores de la columna (de arriba hacia abajo): 75\n",
      "- Columna:  1  fila:  2\n",
      "Ingrese los valores de la columna (de arriba hacia abajo): 60\n",
      "- Columna:  1  fila:  3\n",
      "Ingrese los valores de la columna (de arriba hacia abajo): 20\n",
      "- Columna:  1  fila:  4\n",
      "Ingrese los valores de la columna (de arriba hacia abajo): 15\n",
      "- Columna:  2  fila:  1\n",
      "Ingrese los valores de la columna (de arriba hacia abajo): 35\n",
      "- Columna:  2  fila:  2\n",
      "Ingrese los valores de la columna (de arriba hacia abajo): 70\n",
      "- Columna:  2  fila:  3\n",
      "Ingrese los valores de la columna (de arriba hacia abajo): 30\n",
      "- Columna:  2  fila:  4\n",
      "Ingrese los valores de la columna (de arriba hacia abajo): 25\n",
      "- Columna:  3  fila:  1\n",
      "Ingrese los valores de la columna (de arriba hacia abajo): 40\n",
      "- Columna:  3  fila:  2\n",
      "Ingrese los valores de la columna (de arriba hacia abajo): 50\n",
      "- Columna:  3  fila:  3\n",
      "Ingrese los valores de la columna (de arriba hacia abajo): 40\n",
      "- Columna:  3  fila:  4\n",
      "Ingrese los valores de la columna (de arriba hacia abajo): 40\n",
      "[[75, 60, 20, 15], [35, 70, 30, 25], [40, 50, 40, 40]]\n"
     ]
    }
   ],
   "source": [
    "import numpy as np\n",
    "import pandas as pd\n",
    "\n",
    "#valores ingresados de filas y columnas\n",
    "\n",
    "m=int(input(\"Numero de filas: \"))\n",
    "n=int(input(\"Numero de columnas: \"))\n",
    "\n",
    "M=[]\n",
    "for i in range(m):\n",
    "    print(\"FILA NÚMERO \",i+1)\n",
    "    m1=str(input(\"---Ingrese el nombre de la fila : \"))\n",
    "    M=M+[m1]\n",
    "\n",
    "N=[]\n",
    "nomC=[]\n",
    "for i in range(n):\n",
    "    print(\"Columna\",i+1)\n",
    "    nomC.append(str(input(\"Nombre de la columna: \")))\n",
    "\n",
    "for j in range(n):\n",
    "    N.append([])\n",
    "    for i in range(m):\n",
    "        print(\"- Columna: \",j+1,\" fila: \",i+1)\n",
    "        f=int(input(\"Ingrese los valores de la columna (de arriba hacia abajo): \"))\n",
    "        N[j]=N[j]+[f]\n",
    "print(N)"
   ]
  },
  {
   "cell_type": "code",
   "execution_count": 10,
   "metadata": {},
   "outputs": [],
   "source": [
    "data={}\n",
    "data['Estrato']=M\n",
    "for i in range(len(N)):\n",
    "    data[nomC[i]]=N[i]"
   ]
  },
  {
   "cell_type": "code",
   "execution_count": 11,
   "metadata": {},
   "outputs": [
    {
     "data": {
      "text/html": [
       "<div>\n",
       "<style scoped>\n",
       "    .dataframe tbody tr th:only-of-type {\n",
       "        vertical-align: middle;\n",
       "    }\n",
       "\n",
       "    .dataframe tbody tr th {\n",
       "        vertical-align: top;\n",
       "    }\n",
       "\n",
       "    .dataframe thead th {\n",
       "        text-align: right;\n",
       "    }\n",
       "</style>\n",
       "<table border=\"1\" class=\"dataframe\">\n",
       "  <thead>\n",
       "    <tr style=\"text-align: right;\">\n",
       "      <th></th>\n",
       "      <th>Estrato</th>\n",
       "      <th>Bueno</th>\n",
       "      <th>Regular</th>\n",
       "      <th>Malo</th>\n",
       "    </tr>\n",
       "  </thead>\n",
       "  <tbody>\n",
       "    <tr>\n",
       "      <th>0</th>\n",
       "      <td>Bajo</td>\n",
       "      <td>75</td>\n",
       "      <td>35</td>\n",
       "      <td>40</td>\n",
       "    </tr>\n",
       "    <tr>\n",
       "      <th>1</th>\n",
       "      <td>Medio</td>\n",
       "      <td>60</td>\n",
       "      <td>70</td>\n",
       "      <td>50</td>\n",
       "    </tr>\n",
       "    <tr>\n",
       "      <th>2</th>\n",
       "      <td>Alto</td>\n",
       "      <td>20</td>\n",
       "      <td>30</td>\n",
       "      <td>40</td>\n",
       "    </tr>\n",
       "    <tr>\n",
       "      <th>3</th>\n",
       "      <td>Muy Alto</td>\n",
       "      <td>15</td>\n",
       "      <td>25</td>\n",
       "      <td>40</td>\n",
       "    </tr>\n",
       "  </tbody>\n",
       "</table>\n",
       "</div>"
      ],
      "text/plain": [
       "    Estrato  Bueno  Regular  Malo\n",
       "0      Bajo     75       35    40\n",
       "1     Medio     60       70    50\n",
       "2      Alto     20       30    40\n",
       "3  Muy Alto     15       25    40"
      ]
     },
     "execution_count": 11,
     "metadata": {},
     "output_type": "execute_result"
    }
   ],
   "source": [
    "df=pd.DataFrame(data)\n",
    "df"
   ]
  },
  {
   "cell_type": "code",
   "execution_count": 1,
   "metadata": {},
   "outputs": [
    {
     "name": "stdout",
     "output_type": "stream",
     "text": [
      "prbando git hub\n"
     ]
    }
   ],
   "source": [
    "print('prbando git hub')"
   ]
  },
  {
   "cell_type": "code",
   "execution_count": null,
   "metadata": {},
   "outputs": [],
   "source": []
  }
 ],
 "metadata": {
  "kernelspec": {
   "display_name": "Python 3",
   "language": "python",
   "name": "python3"
  },
  "language_info": {
   "codemirror_mode": {
    "name": "ipython",
    "version": 3
   },
   "file_extension": ".py",
   "mimetype": "text/x-python",
   "name": "python",
   "nbconvert_exporter": "python",
   "pygments_lexer": "ipython3",
   "version": "3.7.3"
  }
 },
 "nbformat": 4,
 "nbformat_minor": 2
}
